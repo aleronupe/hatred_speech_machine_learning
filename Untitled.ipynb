{
 "cells": [
  {
   "cell_type": "code",
   "execution_count": 2,
   "metadata": {},
   "outputs": [
    {
     "name": "stdout",
     "output_type": "stream",
     "text": [
      "(31963, 3)\n",
      "    id  label                                              tweet\n",
      "0   id  label                                              tweet\n",
      "1    1      0   @user when a father is dysfunctional and is s...\n",
      "2    2      0  @user @user thanks for #lyft credit i can't us...\n",
      "3    3      0                                bihday your majesty\n",
      "4    4      0  #model   i love u take with u all the time in ...\n",
      "5    5      0             factsguide: society now    #motivation\n",
      "6    6      0  [2/2] huge fan fare and big talking before the...\n",
      "7    7      0   @user camping tomorrow @user @user @user @use...\n",
      "8    8      0  the next school year is the year for exams.ð...\n",
      "9    9      0  we won!!! love the land!!! #allin #cavs #champ...\n",
      "10  10      0   @user @user welcome here !  i'm   it's so #gr...\n",
      "11  11      0   â #ireland consumer price index (mom) climb...\n",
      "12  12      0  we are so selfish. #orlando #standwithorlando ...\n",
      "13  13      0  i get to see my daddy today!!   #80days #getti...\n",
      "14  14      1  @user #cnn calls #michigan middle school 'buil...\n",
      "15  15      1  no comment!  in #australia   #opkillingbay #se...\n",
      "16  16      0  ouch...junior is angryð#got7 #junior #yugyo...\n",
      "17  17      0  i am thankful for having a paner. #thankful #p...\n",
      "18  18      1                             retweet if you agree! \n",
      "19  19      0  its #friday! ð smiles all around via ig use...\n",
      "           id  label                                              tweet\n",
      "count   31963  31963                                              31963\n",
      "unique  31963      3                                              29531\n",
      "top     19931      0  #model   i love u take with u all the time in ...\n",
      "freq        1  29720                                                319\n"
     ]
    },
    {
     "data": {
      "text/plain": [
       "<matplotlib.axes._subplots.AxesSubplot at 0x7ff66c14e1d0>"
      ]
     },
     "execution_count": 2,
     "metadata": {},
     "output_type": "execute_result"
    },
    {
     "data": {
      "image/png": "[encoded data removed]",
      "text/plain": [
       "<Figure size 576x432 with 1 Axes>"
      ]
     },
     "metadata": {},
     "output_type": "display_data"
    }
   ],
   "source": [
    "# Load libraries\n",
    "import pandas as pd\n",
    "import numpy as np\n",
    "import re\n",
    "import nltk\n",
    "import matplotlib.pyplot as plt\n",
    "\n",
    "\n",
    "\n",
    "#Load dataset\n",
    "fields = ['id', 'label', 'tweet']\n",
    "dataset = pd.read_csv(\"./twitter-sentiment-analysis-hatred-speech/train.csv\", names=fields)\n",
    "\n",
    "\n",
    "#shape\n",
    "print(dataset.shape)\n",
    "\n",
    "# head\n",
    "print(dataset.head(20))\n",
    "\n",
    "# descriptions\n",
    "print(dataset.describe())\n",
    "\n",
    "\n",
    "plot_size = plt.rcParams[\"figure.figsize\"]\n",
    "# print(plot_size[0])\n",
    "# print(plot_size[1])\n",
    "\n",
    "plot_size[0] = 8\n",
    "plot_size[1] = 6\n",
    "plt.rcParams[\"figure.figsize\"] = plot_size\n",
    "dataset.label.value_counts().plot(kind='pie', autopct='%1.0f%%')"
   ]
  },
  {
   "cell_type": "code",
   "execution_count": null,
   "metadata": {},
   "outputs": [],
   "source": []
  }
 ],
 "metadata": {
  "kernelspec": {
   "display_name": "Python 3",
   "language": "python",
   "name": "python3"
  },
  "language_info": {
   "codemirror_mode": {
    "name": "ipython",
    "version": 3
   },
   "file_extension": ".py",
   "mimetype": "text/x-python",
   "name": "python",
   "nbconvert_exporter": "python",
   "pygments_lexer": "ipython3",
   "version": "3.7.4"
  }
 },
 "nbformat": 4,
 "nbformat_minor": 2
}
